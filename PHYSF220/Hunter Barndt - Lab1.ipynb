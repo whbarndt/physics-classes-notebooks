{
 "cells": [
  {
   "cell_type": "markdown",
   "metadata": {},
   "source": [
    "# Lab 1: Computational Physics [Python 101]\n",
    "\n",
    "**Goal of the Lab**\n",
    "\n",
    "Your first lab exercise is designed to acquaint you with some of the features of Python you’ll be using during the semester, and also some of the programming principles you’ll be using long afterward. Pay particular attention to details of syntax; very slight changes in what you type can have a large impact on results. Pay attention to subtle meanings in how variables are treated by your mind and the interpreter of the programming language.\n",
    "\n",
    "Save your lab notebook in the following format \"Last name + parnter's last name + lab number\", e.g., \"Delamere_Delamere_Lab1\" and submit final work to Google classroom."
   ]
  },
  {
   "cell_type": "markdown",
   "metadata": {},
   "source": [
    "## Exercise 1:  Using \"Markdown\" cells.\n",
    "\n",
    "Text can be added to Jupyter Notebooks using Markdown cells. You can change the cell type to Markdown by using the Cell menu, the toolbar, or the key shortcut m. Markdown is a popular markup language that is a superset of HTML.  You will use the Markdown cells to type responses to lab questions.  \n",
    "\n",
    "For detailed Markdown help, use the Jupyter \"help\" menu or try the following [link](https://jupyter-notebook.readthedocs.io/en/stable/examples/Notebook/Working%20With%20Markdown%20Cells.html#General-HTML)\n",
    "\n",
    "1. Double click this box to edit, then use the \"run\" botton on the toolbar to view the results.  Alternatively, use the \"cell\" menu to run all cells for a subset of cells.\n",
    "\n",
    "2. The following equation provides an example to $\\LaTeX$ typesetting, $ x = \\frac{-b \\pm \\sqrt{b^2 - 4 a c}}{2a}$. Try writing an equation of the form $ax^2 + bx + c = 0$.  For help using $\\LaTeX$, try this [link](https://www.authorea.com/users/77723/articles/110898-how-to-write-mathematical-equations-expressions-and-symbols-with-latex-a-cheatsheet)\n",
    "\n",
    "\n",
    "$$a x^2 + bx +c =0$$\n",
    "\n",
    "\n",
    "3. Inline `code` has `back-ticks around` it.\n",
    "\n",
    "4. Embedded blocks of code use three back-ticks. Note how the code syntax is highlighed for readability. \n",
    "\n",
    "```python\n",
    "def f(x):\n",
    "    \"\"\"a docstring\"\"\"\n",
    "    return x**2\n",
    "```\n",
    "\n"
   ]
  },
  {
   "cell_type": "markdown",
   "metadata": {},
   "source": [
    "## Exercise 2:  Writing a simple python code.\n",
    "\n",
    "1.  In the next box, type (don't cut and paste) the following code.  Observe the syntax highlighting. Make certain that the cell is identified as \"code\" using the toolbar.\n",
    "\n",
    "```python\n",
    "a = 1e−3 \n",
    "b = 0.001 \n",
    "c = 10∗∗0 \n",
    "d = 1.0\n",
    "e = c+a\n",
    "f = e−b\n",
    "g = 1.0/f \n",
    "print(g−1)\n",
    "```\n",
    "\n",
    "2. Execute these commands by hitting the ’Run’ button.\n",
    "\n",
    "3. What is the exact (theoretical) result for g?\n",
    "\n",
    "4. What does Python provide for g-1?\n",
    "\n",
    "5. What is your explanation for the discrepancy in the theoretical and computational results?"
   ]
  },
  {
   "cell_type": "code",
   "execution_count": 1,
   "metadata": {},
   "outputs": [],
   "source": [
    "#my first python program\n"
   ]
  },
  {
   "cell_type": "markdown",
   "metadata": {},
   "source": [
    "## Exercise 3: Numpy\n",
    "\n",
    "NumPy is the fundamental package for scientific computing with Python. It contains among other things:\n",
    "\n",
    "- a powerful N-dimensional array object\n",
    "\n",
    "- sophisticated (broadcasting) functions\n",
    "\n",
    "- tools for integrating C/C++ and Fortran code\n",
    "\n",
    "- useful linear algebra, Fourier transform, and random number capabilities\n",
    "\n",
    "Besides its obvious scientific uses, NumPy can also be used as an efficient multi-dimensional container of generic data. Arbitrary data-types can be defined. This allows NumPy to seamlessly and speedily integrate with a wide variety of databases.\n",
    "\n",
    "1. Execute the following code\n",
    "\n",
    "```python\n",
    "import numpy as np \n",
    "np.linspace?\n",
    "x = np.linspace(1,10,10)\n",
    "print(x)\n",
    "```\n",
    "The first command loads the numerical Python library called numpy. We will need this in each lab. It now identifies all commands in that library with the abbreviation np (your choice). The question mark behind a command prints a help file for that command; it can be a very useful way to learn how to use it and what exactly it means.\n",
    "\n",
    "2. Generate an array of 361 numbers between 0 and $2\\pi$.  You can use `np.pi` for the value of $\\pi$.\n"
   ]
  },
  {
   "cell_type": "code",
   "execution_count": 2,
   "metadata": {},
   "outputs": [],
   "source": [
    "#practice using numpy\n"
   ]
  },
  {
   "cell_type": "markdown",
   "metadata": {},
   "source": [
    "## Exercise 4:  Functions\n",
    "\n",
    "Functions are very important constructs that we will frequently encounter. A function needs a name, some input arguments (this can be zero, one, or more) and it can produce output, but doesn’t have to. A very simple function that calculates $x^2 + 1$ could be defined as follows:\n",
    "\n",
    "```python\n",
    "def f(x):\n",
    "    return x∗∗2+1\n",
    "```\n",
    "\n",
    "Note the syntax: Each function starts with the word def. Then follows the name of the function and the input arguments (here just one). The function will return the value(s) specified after the code word return. The details are important: the line with def needs to be followed by a :, and all instructions need to be indented. Jupyter Notebook will do this automatically.\n",
    "\n",
    "1. In the cell below, type this code (after importing numpy) and observe the syntax highlighting and auto indenting.\n",
    "\n",
    "2. Call this function, e.g., add following lines and run the program: \n",
    "\n",
    "```python \n",
    "y = f(2)\n",
    "print y\n",
    "```\n",
    "\n",
    "3. Write a function to calcuate $\\sin(2x)$.  This will require using numpy for the $\\sin$ function, i.e., `np.sin`. Use an array of numbers from 0 to $2\\pi$ as input.\n",
    "\n",
    "4. Write a function `r2d` that converts radians into degrees, minutes, and decimal seconds. Before you start coding, think about what the appropriate inputs and outputs are for such a function. Then write down the equations necessary to do the conversion. When coding those equations you will find the numpy function `np.floor()` quite useful. Learn what it does by executing `np.floor?`.\n",
    "\n",
    "5. Repeat part 3, but instead start with an array of 361 real numbers between 0 and 360.  You might write a function called `d2r`."
   ]
  },
  {
   "cell_type": "code",
   "execution_count": 3,
   "metadata": {},
   "outputs": [],
   "source": [
    "#practice using python functions\n",
    "\n",
    "import numpy as np\n"
   ]
  },
  {
   "cell_type": "markdown",
   "metadata": {},
   "source": [
    "## Exercise 5: Graphics\n",
    "\n",
    "An important aspect of coding is to display results. Let’s try this out with your $\\sin$ function.  We will need to import the necessary plotting functions from the `matplotlib` library. All the plotting we will need for this class is contained in one part of this library called `pyplot`. We import it as:\n",
    "\n",
    "```python\n",
    "from matplotlib import pyplot as plt\n",
    "```\n",
    "\n",
    "1. Generate an array of regularly spaced real numbers using `np.arange(start,stop,step)`.  Compare this with the `np.linspace` function.\n",
    "\n",
    "2. Use your $\\sin$ function from above to calculate $f(x) = \\sin(2x)$.\n",
    "\n",
    "3.  Plot the results, using `plt.plot(x,y)`. Add the command `plt.show()` to display the figure and run the program.\n",
    "\n",
    "4. Add a title and axis labels. You can use the commands for `plt.title()`, `plt.xlabel`, and `plt.ylabel()`. Note that the `pyplot` text interpreter understands $\\LaTeX$ commands. For example, Greek letters can be displayed with e.g. plt.xlabel(`$\\beta$`).\n",
    "\n",
    "5. Overplot $f(x) = \\cos(2x)$.  Try to change line colors and/or symbols, i.e., check the matplotlib help online!"
   ]
  },
  {
   "cell_type": "code",
   "execution_count": 4,
   "metadata": {},
   "outputs": [],
   "source": [
    "#practice plotting!"
   ]
  }
 ],
 "metadata": {
  "kernelspec": {
   "display_name": "Python 3",
   "language": "python",
   "name": "python3"
  },
  "language_info": {
   "codemirror_mode": {
    "name": "ipython",
    "version": 3
   },
   "file_extension": ".py",
   "mimetype": "text/x-python",
   "name": "python",
   "nbconvert_exporter": "python",
   "pygments_lexer": "ipython3",
   "version": "3.7.4"
  }
 },
 "nbformat": 4,
 "nbformat_minor": 2
}
